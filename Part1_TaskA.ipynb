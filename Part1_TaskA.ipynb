{
 "cells": [
  {
   "metadata": {},
   "cell_type": "code",
   "outputs": [],
   "execution_count": null,
   "source": [
    "#Task A network construction\n",
    "import pandas as pd\n",
    "import networkx as nx\n",
    "import matplotlib.pyplot as plt"
   ],
   "id": "9d2404b973add2e7"
  },
  {
   "metadata": {},
   "cell_type": "code",
   "outputs": [],
   "execution_count": null,
   "source": [
    "# Selecting three different scale files (update file paths as needed)\n",
    "files = {\n",
    "    \"large\": \"data/datasets/PROJECT_CHAT.csv\",  # Large dataset\n",
    "    \"medium\": \"data/datasets/ADMINISTRATORS.CSV\",        # Medium dataset\n",
    "    \"small\": \"data/datasets/INTERWIKI_CONFLICT.csv\"     # Small dataset\n",
    "}"
   ],
   "id": "6a2a439eef28dc10"
  },
  {
   "metadata": {},
   "cell_type": "code",
   "outputs": [],
   "execution_count": null,
   "source": [
    "# Function to load data from CSV\n",
    "def load_data(file_path):\n",
    "    \"\"\" Load CSV file and return a DataFrame \"\"\"\n",
    "    df = pd.read_csv(file_path)\n",
    "    df.columns = [\"thread_subject\", \"username\", \"page_name\"]  # Ensure consistent column names\n",
    "    return df"
   ],
   "id": "9a2422a37408c791"
  },
  {
   "metadata": {},
   "cell_type": "code",
   "outputs": [],
   "execution_count": null,
   "source": [
    "# Function to build social network\n",
    "def build_network(df):\n",
    "    \"\"\" Construct a social network graph from the DataFrame \"\"\"\n",
    "    G = nx.Graph()\n",
    "    \n",
    "    # Group by page and thread\n",
    "    grouped = df.groupby([\"page_name\", \"thread_subject\"])\n",
    "    \n",
    "    for (page, thread), group in grouped:\n",
    "        users = group[\"username\"].unique()  # Get unique users in the thread\n",
    "        for i in range(len(users)):\n",
    "            for j in range(i + 1, len(users)):\n",
    "                G.add_edge(users[i], users[j])  # Create an edge between users commenting in the same thread\n",
    "    \n",
    "    return G"
   ],
   "id": "84a4f34c488e9c9e"
  },
  {
   "metadata": {},
   "cell_type": "code",
   "outputs": [],
   "execution_count": null,
   "source": [
    "# Function to analyze network properties\n",
    "def analyze_network(G):\n",
    "    \"\"\" Compute and display basic network metrics \"\"\"\n",
    "    print(f\"Number of nodes (users): {G.number_of_nodes()}\")\n",
    "    print(f\"Number of edges (connections): {G.number_of_edges()}\")\n",
    "    print(f\"Network density: {nx.density(G):.4f}\")\n",
    "    \n",
    "    # Compute the largest connected component\n",
    "    largest_cc = max(nx.connected_components(G), key=len)\n",
    "    print(f\"Size of the largest connected component: {len(largest_cc)}\")"
   ],
   "id": "6b4292fa8c8c9a84"
  },
  {
   "metadata": {},
   "cell_type": "code",
   "outputs": [],
   "execution_count": null,
   "source": [
    "# Function to visualize a subset of the network\n",
    "def plot_network(G, title=\"Wikidata Editor Network\"):\n",
    "    \"\"\" Visualize part of the Wikidata editor social network \"\"\"\n",
    "    plt.figure(figsize=(10, 6))\n",
    "    sub_G = G.subgraph(list(G.nodes)[:200])  # Draw only the first 50 nodes for simplicity\n",
    "    pos = nx.spring_layout(sub_G)\n",
    "    nx.draw(sub_G, pos, with_labels=False, node_size=50)  # Removed labels for cleaner visualization\n",
    "    plt.title(title)\n",
    "    plt.show()"
   ],
   "id": "6d269df974c4a990"
  },
  {
   "metadata": {},
   "cell_type": "code",
   "outputs": [],
   "execution_count": null,
   "source": [
    "# Process three different scale datasets\n",
    "networks = {}\n",
    "for size, file in files.items():\n",
    "    print(f\"\\nProcessing {size} scale dataset: {file}\")\n",
    "    df = load_data(file)\n",
    "    G = build_network(df)\n",
    "    analyze_network(G)\n",
    "    networks[size] = G  # Store network\n",
    "    plot_network(G, title=f\"{size.capitalize()} Network\")"
   ],
   "id": "16c87b3a04bdc48"
  }
 ],
 "metadata": {
  "kernelspec": {
   "display_name": "Python 3",
   "language": "python",
   "name": "python3"
  },
  "language_info": {
   "codemirror_mode": {
    "name": "ipython",
    "version": 2
   },
   "file_extension": ".py",
   "mimetype": "text/x-python",
   "name": "python",
   "nbconvert_exporter": "python",
   "pygments_lexer": "ipython2",
   "version": "2.7.6"
  }
 },
 "nbformat": 4,
 "nbformat_minor": 5
}
