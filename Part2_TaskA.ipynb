{
 "cells": [
  {
   "metadata": {},
   "cell_type": "code",
   "outputs": [],
   "execution_count": null,
   "source": [
    "import pandas as pd\n",
    "import networkx as nx\n",
    "import matplotlib.pyplot as plt\n",
    "import numpy as np\n",
    "import osmnx as ox\n",
    "import geopandas as gpd\n",
    "from shapely.geometry import Point, box\n",
    "from pyproj import Transformer\n",
    "from libpysal.weights import KNN\n",
    "from esda.moran import Moran\n",
    "import spaghetti as spgh\n",
    "import glob"
   ],
   "id": "7dae91c362420bef"
  },
  {
   "metadata": {},
   "cell_type": "code",
   "outputs": [],
   "execution_count": null,
   "source": [
    "# Task 2 Part A: Road Network Analysis in Leeds with Accident Data\n",
    "\n",
    "# Load all accident data files from 2009 to 2019\n",
    "accident_files = glob.glob(\"data/Accidents_*_Leeds.csv\")\n",
    "accident_data_list = [pd.read_csv(file, encoding='ISO-8859-1') for file in accident_files]\n",
    "accident_data = pd.concat(accident_data_list, ignore_index=True)\n",
    "\n",
    "# Convert accident data to GeoDataFrame using British National Grid (EPSG:27700)\n",
    "accident_gdf = gpd.GeoDataFrame(\n",
    "    accident_data,\n",
    "    geometry=gpd.points_from_xy(accident_data[\"Grid Ref: Easting\"], accident_data[\"Grid Ref: Northing\"]),\n",
    "    crs=\"EPSG:27700\"\n",
    ")\n",
    "# Define Leeds city center coordinates in British National Grid\n",
    "leeds_center = (430000, 434000)\n",
    "\n",
    "# Create 1km x 1km grid over Leeds\n",
    "xmin, ymin, xmax, ymax = 425000, 430000, 435000, 440000  # Define grid extent\n",
    "grid_size = 1000  # 1 km\n",
    "rows = int((ymax - ymin) / grid_size)\n",
    "cols = int((xmax - xmin) / grid_size)\n",
    "\n",
    "grid_cells = []\n",
    "for i in range(cols):\n",
    "    for j in range(rows):\n",
    "        x_left = xmin + (i * grid_size)\n",
    "        y_bottom = ymin + (j * grid_size)\n",
    "        x_right = x_left + grid_size\n",
    "        y_top = y_bottom + grid_size\n",
    "        grid_cells.append(box(x_left, y_bottom, x_right, y_top))\n",
    "\n",
    "grid = gpd.GeoDataFrame(geometry=grid_cells, crs=\"EPSG:27700\")"
   ],
   "id": "85cc34521be9e930"
  },
  {
   "metadata": {},
   "cell_type": "code",
   "outputs": [],
   "execution_count": null,
   "source": [
    "# Perform spatial join to count accidents in each grid cell\n",
    "grid[\"accident_count\"] = grid.apply(lambda cell: accident_gdf.within(cell.geometry).sum(), axis=1)"
   ],
   "id": "ebae77544e47bd42"
  },
  {
   "metadata": {},
   "cell_type": "code",
   "outputs": [],
   "execution_count": null,
   "source": [
    "# Select the grid with the most accidents, and closest to city center\n",
    "grid[\"centroid_distance\"] = grid.geometry.centroid.apply(lambda x: x.distance(Point(leeds_center)))\n",
    "max_accident_count = grid[\"accident_count\"].max()\n",
    "print(f\"Maximum accident count in a single grid cell: {max_accident_count}\")\n",
    "grid_sorted = grid.sort_values(by=[\"accident_count\", \"centroid_distance\"], ascending=[False, True])\n",
    "selected_grid = grid_sorted[(grid_sorted[\"accident_count\"] == grid_sorted[\"accident_count\"].max())].iloc[0]"
   ],
   "id": "6a1aabf5570c6d36"
  },
  {
   "metadata": {},
   "cell_type": "code",
   "outputs": [],
   "execution_count": null,
   "source": [
    "# Extract selected accident-prone area\n",
    "selected_accidents = accident_gdf[accident_gdf.within(selected_grid.geometry)]\n",
    "selected_center = selected_grid.geometry.centroid.coords[0]"
   ],
   "id": "294f980983bcd5f7"
  },
  {
   "metadata": {},
   "cell_type": "code",
   "outputs": [],
   "execution_count": null,
   "source": [
    "# Convert selected center to WGS84 for OSMnx\n",
    "transformer_to_wgs84 = Transformer.from_crs(\"EPSG:27700\", \"EPSG:4326\", always_xy=True)\n",
    "selected_center_wgs84 = transformer_to_wgs84.transform(selected_center[1], selected_center[0])\n",
    "print(f\"Selected center (WGS84): {selected_center_wgs84}\")"
   ],
   "id": "c1d71c31faea1b2c"
  },
  {
   "metadata": {},
   "cell_type": "code",
   "outputs": [],
   "execution_count": null,
   "source": [
    "# Download road network using WGS84 coordinates\n",
    "selected_center_wgs84 = (53.7996, -1.5491)  # Leeds city center (manual override)\n",
    "network_type = \"drive\"\n",
    "G = ox.graph_from_point(selected_center_wgs84, dist=1000, network_type=network_type, retain_all=True, simplify=True)"
   ],
   "id": "add410ef58725f8f"
  },
  {
   "metadata": {},
   "cell_type": "code",
   "outputs": [],
   "execution_count": null,
   "source": [
    "# Convert road network back to British National Grid (EPSG:27700)\n",
    "transformer_to_bng = Transformer.from_crs(\"EPSG:4326\", \"EPSG:27700\", always_xy=True)\n",
    "for node, data in G.nodes(data=True):\n",
    "    x, y = transformer_to_bng.transform(data[\"x\"], data[\"y\"])\n",
    "    data[\"x\"], data[\"y\"] = x, y"
   ],
   "id": "39ce2ea0c668904d"
  },
  {
   "metadata": {},
   "cell_type": "code",
   "outputs": [],
   "execution_count": null,
   "source": [
    "# Convert to undirected graph\n",
    "G_undirected = nx.Graph(G)"
   ],
   "id": "1d71393dc4ee784c"
  },
  {
   "metadata": {},
   "cell_type": "code",
   "outputs": [],
   "execution_count": null,
   "source": [
    "# Compute basic road network characteristics\n",
    "num_nodes = len(G_undirected.nodes)\n",
    "num_edges = len(G_undirected.edges)\n",
    "density = num_edges / num_nodes\n",
    "avg_street_length = np.mean([d['length'] for u, v, d in G_undirected.edges(data=True)])"
   ],
   "id": "1a43ae773518e68a"
  },
  {
   "metadata": {},
   "cell_type": "code",
   "outputs": [],
   "execution_count": null,
   "source": [
    "# Compute intersection density (nodes with degree >2)\n",
    "intersection_nodes = [node for node, degree in dict(G_undirected.degree()).items() if degree > 2]\n",
    "intersection_density = len(intersection_nodes) / num_nodes"
   ],
   "id": "ce459b601b817502"
  },
  {
   "metadata": {},
   "cell_type": "code",
   "outputs": [],
   "execution_count": null,
   "source": [
    "# Compute network diameter (longest shortest path in largest component)\n",
    "largest_cc = max(nx.connected_components(G_undirected), key=len)\n",
    "G_largest = G_undirected.subgraph(largest_cc)\n",
    "sp_length = dict(nx.all_pairs_shortest_path_length(G_largest))\n",
    "network_diameter = max([max(lengths.values()) for lengths in sp_length.values()])"
   ],
   "id": "765fdd533b5d6d32"
  },
  {
   "metadata": {},
   "cell_type": "code",
   "outputs": [],
   "execution_count": null,
   "source": [
    "# Compute circuitry (edges / minimal spanning tree edges)\n",
    "mst = nx.minimum_spanning_tree(G_undirected)\n",
    "circuitry = num_edges / len(mst.edges)"
   ],
   "id": "69f0f1c5b51de810"
  },
  {
   "metadata": {},
   "cell_type": "code",
   "outputs": [],
   "execution_count": null,
   "source": [
    "# Check if the road network is planar\n",
    "is_planar, _ = nx.check_planarity(G_undirected)"
   ],
   "id": "457296675b37b288"
  },
  {
   "metadata": {},
   "cell_type": "code",
   "outputs": [],
   "execution_count": null,
   "source": [
    "# Print results\n",
    "print(\"\\n--- Leeds High Accident Area Road Network Analysis ---\")\n",
    "print(f\"Selected area center coordinates: {selected_center}\")\n",
    "print(f\"Total accidents: {selected_grid['accident_count']}\")\n",
    "print(f\"Number of road network nodes: {num_nodes}\")\n",
    "print(f\"Number of road network edges: {num_edges}\")\n",
    "print(f\"Network density: {density:.4f}\")\n",
    "print(f\"Average street length: {avg_street_length:.2f} meters\")\n",
    "print(f\"Intersection density: {intersection_density:.4f}\")\n",
    "print(f\"Network diameter: {network_diameter}\")\n",
    "print(f\"Road network circuitry: {circuitry:.4f}\")\n",
    "print(f\"Is the road network planar? {is_planar}\")"
   ],
   "id": "2aee40b143a9f59a"
  },
  {
   "metadata": {},
   "cell_type": "code",
   "outputs": [],
   "execution_count": null,
   "source": [
    "# Plot road network, grid, and accident locations\n",
    "fig, ax = plt.subplots(figsize=(10, 8))\n",
    "\n",
    "# Plot the selected grid boundary\n",
    "selected_grid_gdf = gpd.GeoDataFrame(geometry=[selected_grid.geometry], crs=\"EPSG:27700\")\n",
    "selected_grid_gdf.boundary.plot(ax=ax, color=\"red\", linewidth=2)\n",
    "\n",
    "# Plot accidents\n",
    "selected_accidents.plot(ax=ax, color=\"blue\", markersize=5, alpha=0.7, label=\"Accidents\")\n",
    "\n",
    "# Plot the road network\n",
    "# Make sure G is projected to the same CRS as your other data\n",
    "if G.graph.get('crs') != 'epsg:27700':\n",
    "    G = ox.project_graph(G, to_crs='epsg:27700')\n",
    "\n",
    "# Use the ox.plot_graph function with fixed parameters\n",
    "ox.plot_graph(\n",
    "    G, \n",
    "    ax=ax, \n",
    "    node_size=10, \n",
    "    edge_linewidth=0.5, \n",
    "    bgcolor='white', \n",
    "    show=False, \n",
    "    close=False\n",
    ")\n",
    "\n",
    "# Add legend and title\n",
    "plt.legend()\n",
    "plt.title(\"Leeds High Accident Area & Road Network\")\n",
    "# Set equal aspect ratio without the problematic calculation\n",
    "ax.set_aspect('equal')\n",
    "plt.tight_layout()\n",
    "plt.show()\n"
   ],
   "id": "a2d8204147fe2fc7"
  }
 ],
 "metadata": {
  "kernelspec": {
   "display_name": "Python 3",
   "language": "python",
   "name": "python3"
  },
  "language_info": {
   "codemirror_mode": {
    "name": "ipython",
    "version": 2
   },
   "file_extension": ".py",
   "mimetype": "text/x-python",
   "name": "python",
   "nbconvert_exporter": "python",
   "pygments_lexer": "ipython2",
   "version": "2.7.6"
  }
 },
 "nbformat": 4,
 "nbformat_minor": 5
}
