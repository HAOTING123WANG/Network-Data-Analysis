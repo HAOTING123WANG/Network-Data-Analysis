{
 "cells": [
  {
   "metadata": {
    "ExecuteTime": {
     "end_time": "2025-04-01T11:27:18.980302Z",
     "start_time": "2025-04-01T11:27:16.106643Z"
    }
   },
   "cell_type": "code",
   "source": [
    "import pandas as pd\n",
    "import networkx as nx\n",
    "import matplotlib.pyplot as plt\n",
    "import random\n",
    "\n",
    "\n",
    "def load_data(file_path):\n",
    "    df = pd.read_csv(file_path)\n",
    "    df.columns = [\"thread_subject\", \"username\", \"page_name\"]\n",
    "    return df\n",
    "\n",
    "\n",
    "def build_network(df):\n",
    "    G = nx.Graph()\n",
    "    grouped = df.groupby([\"page_name\", \"thread_subject\"])\n",
    "    for (page, thread), group in grouped:\n",
    "        users = group[\"username\"].unique()\n",
    "        for i in range(len(users)):\n",
    "            for j in range(i + 1, len(users)):\n",
    "                G.add_edge(users[i], users[j])\n",
    "    return G\n",
    "\n",
    "\n",
    "def detect_trolls(file_path, title=\"Network\"):\n",
    "    print(f\"\\n--- Running Troll Detection on: {title} ---\")\n",
    "    df = load_data(file_path)\n",
    "    G = build_network(df)\n",
    "\n",
    "    if G.number_of_nodes() < 2:\n",
    "        print(\"Graph too small to run troll detection.\")\n",
    "        return\n",
    "\n",
    "    # Randomly select two editors\n",
    "    selected_editors = random.sample(list(G.nodes()), 2)\n",
    "    print(f\"Selected editors for monitoring: {selected_editors}\")\n",
    "\n",
    "    # Priority: highly connected neighbors of the first editor\n",
    "    priority_list = sorted(G.neighbors(selected_editors[0]), key=lambda n: G.degree(n), reverse=True)\n",
    "    print(f\"Priority list of neighbors to check (top 10): {priority_list[:10]}\")\n",
    "\n",
    "    # Simulate potential spread from both selected editors\n",
    "    for editor in selected_editors:\n",
    "        shortest_paths = nx.single_source_shortest_path_length(G, editor, cutoff=3)\n",
    "        spread_targets = list(shortest_paths.keys())[:10]\n",
    "        print(f\"Potential spread from {editor} (top 10 nodes): {spread_targets}\")\n",
    "\n",
    "\n",
    "detect_trolls(\"data/datasets/PROJECT_CHAT.csv\", title=\"Large Network\")\n",
    "detect_trolls(\"data/datasets/ADMINISTRATORS.csv\", title=\"Medium Network\")\n",
    "detect_trolls(\"data/datasets/INTERWIKI_CONFLICT.csv\", title=\"Small Network\")"
   ],
   "id": "21f0ac4bb11c88f5",
   "outputs": [
    {
     "name": "stdout",
     "output_type": "stream",
     "text": [
      "\n",
      "--- Running Troll Detection on: Large Network ---\n",
      "Selected editors for monitoring: ['173.254.28.43', 'Yurik']\n",
      "Priority list of neighbors to check (top 10): ['Ymblanter', 'Mbch331', '195.191.250.161', 'Джерри К.Г', '69.163.34.169', '45.124.64.155']\n",
      "Potential spread from 173.254.28.43 (top 10 nodes): ['173.254.28.43', '195.191.250.161', 'Mbch331', 'Ymblanter', 'Джерри К.Г', '69.163.34.169', '45.124.64.155', 'Jobu0101', 'Pigsonthewing', 'Pasleim']\n",
      "Potential spread from Yurik (top 10 nodes): ['Yurik', 'Ymblanter', 'Jeblad', 'Filceolaire', 'Kolja21', 'Tpt', 'Addshore', 'Hazard-SJ', 'Kipcool', 'Kipmaster']\n",
      "\n",
      "--- Running Troll Detection on: Medium Network ---\n",
      "Selected editors for monitoring: ['Chrisahn', 'Aditya Kabir']\n",
      "Priority list of neighbors to check (top 10): ['Ymblanter', 'Jura1', 'Bovlb']\n",
      "Potential spread from Chrisahn (top 10 nodes): ['Chrisahn', 'Bovlb', 'Ymblanter', 'Jura1', 'MisterSynergy', 'Til Eulenspiegel', 'Mahir256', 'Kubura', 'Yupik', 'Dipsacus fullonum']\n",
      "Potential spread from Aditya Kabir (top 10 nodes): ['Aditya Kabir', 'Pigsonthewing', 'Mahir256', 'ChristianKl', 'Pasleim', 'Ahoerstemeier', 'Jasper Deng', 'Addshore', 'George.Edward.C', 'Rschen7754']\n",
      "\n",
      "--- Running Troll Detection on: Small Network ---\n",
      "Selected editors for monitoring: ['Schlosser67', 'Seti6908']\n",
      "Priority list of neighbors to check (top 10): ['QZanden']\n",
      "Potential spread from Schlosser67 (top 10 nodes): ['Schlosser67', 'QZanden', 'Wylve', 'Carsrac', 'Akkakk', 'Kronf', 'Izno', 'Danrok', 'Ricordisamoa', 'ValterVB']\n",
      "Potential spread from Seti6908 (top 10 nodes): ['Seti6908', 'Ricordisamoa', 'Delusion23', 'Make91', 'Joe Decker', 'Infovarius', 'Ymblanter', 'Brühl', 'Akkakk', 'Мастер теней']\n"
     ]
    }
   ],
   "execution_count": 1
  }
 ],
 "metadata": {
  "kernelspec": {
   "display_name": "Python 3",
   "language": "python",
   "name": "python3"
  },
  "language_info": {
   "codemirror_mode": {
    "name": "ipython",
    "version": 2
   },
   "file_extension": ".py",
   "mimetype": "text/x-python",
   "name": "python",
   "nbconvert_exporter": "python",
   "pygments_lexer": "ipython2",
   "version": "2.7.6"
  }
 },
 "nbformat": 4,
 "nbformat_minor": 5
}
